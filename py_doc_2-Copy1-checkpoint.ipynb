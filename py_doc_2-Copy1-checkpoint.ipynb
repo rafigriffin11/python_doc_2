{
 "cells": [
  {
   "cell_type": "markdown",
   "metadata": {},
   "source": [
    "# Functions, Scoping, Data Collections 1 & List Comprehensions"
   ]
  },
  {
   "cell_type": "markdown",
   "metadata": {},
   "source": [
    "## Tasks Today:\n",
    "\n",
    "<i>Monday Additions (or, and ... if statements)</i>\n",
    "\n",
    "1) String Manipulation <br>\n",
    " &nbsp;&nbsp;&nbsp;&nbsp; a) strip() <br>\n",
    " &nbsp;&nbsp;&nbsp;&nbsp; b) title() <br>\n",
    "2) Working With Lists <br>\n",
    " &nbsp;&nbsp;&nbsp;&nbsp; a) min() <br>\n",
    " &nbsp;&nbsp;&nbsp;&nbsp; b) max() <br>\n",
    " &nbsp;&nbsp;&nbsp;&nbsp; c) sum() <br>\n",
    " &nbsp;&nbsp;&nbsp;&nbsp; d) sort() <br>\n",
    " &nbsp;&nbsp;&nbsp;&nbsp; e) Copying a List <br>\n",
    " &nbsp;&nbsp;&nbsp;&nbsp; f) 'in' keyword <br>\n",
    " &nbsp;&nbsp;&nbsp;&nbsp; g) 'not in' keyword <br>\n",
    " &nbsp;&nbsp;&nbsp;&nbsp; i) Checking an Empty List <br>\n",
    " &nbsp;&nbsp;&nbsp;&nbsp; j) Removing Instances with a Loop <br>\n",
    "3) List Comprehensions <br>\n",
    "4) Tuples <br>\n",
    " &nbsp;&nbsp;&nbsp;&nbsp; a) sorted() <br>\n",
    "5) Functions <br>\n",
    " &nbsp;&nbsp;&nbsp;&nbsp; a) User-Defined vs. Built-In Functions <br>\n",
    " &nbsp;&nbsp;&nbsp;&nbsp; b) Accepting Parameters <br>\n",
    " &nbsp;&nbsp;&nbsp;&nbsp; c) Default Parameters <br>\n",
    " &nbsp;&nbsp;&nbsp;&nbsp; d) Making an Argument Optional <br>\n",
    " &nbsp;&nbsp;&nbsp;&nbsp; e) Keyword Arguments <br>\n",
    " &nbsp;&nbsp;&nbsp;&nbsp; f) Returning Values <br>\n",
    " &nbsp;&nbsp;&nbsp;&nbsp; g) *args <br>\n",
    " &nbsp;&nbsp;&nbsp;&nbsp; h) Docstring <br>\n",
    " &nbsp;&nbsp;&nbsp;&nbsp; i) Using a User Function in a Loop <br>\n",
    "6) Scope"
   ]
  },
  {
   "cell_type": "markdown",
   "metadata": {},
   "source": [
    "### String Manipulation"
   ]
  },
  {
   "cell_type": "markdown",
   "metadata": {},
   "source": [
    "##### .lstrip()"
   ]
  },
  {
   "cell_type": "code",
   "execution_count": 4,
   "metadata": {},
   "outputs": [
    {
     "name": "stdout",
     "output_type": "stream",
     "text": [
      "John Smith\n",
      "John Smith\n"
     ]
    }
   ],
   "source": [
    "# string.lstrip()\n",
    "\n",
    "name = '         jJohn Smith'\n",
    "print(name.lstrip(\" \" \"j\"))\n",
    "\n",
    "# or\n",
    "\n",
    "stripped_name = name.lstrip(\" \" \"j\")\n",
    "print(stripped_name)"
   ]
  },
  {
   "cell_type": "markdown",
   "metadata": {},
   "source": [
    "##### .rstrip()"
   ]
  },
  {
   "cell_type": "code",
   "execution_count": 8,
   "metadata": {},
   "outputs": [
    {
     "name": "stdout",
     "output_type": "stream",
     "text": [
      "Bill Ross\n",
      "Bill Ross\n"
     ]
    }
   ],
   "source": [
    "# string.rstrip()\n",
    "name = \"Bill Ross      wj\"\n",
    "print(name.rstrip(' ' 'wj'))\n",
    "\n",
    "stripped_name = name.rstrip(' ' 'wj')\n",
    "print(stripped_name)"
   ]
  },
  {
   "cell_type": "markdown",
   "metadata": {},
   "source": [
    "##### .strip()"
   ]
  },
  {
   "cell_type": "code",
   "execution_count": 9,
   "metadata": {},
   "outputs": [
    {
     "name": "stdout",
     "output_type": "stream",
     "text": [
      "John Smith\n"
     ]
    }
   ],
   "source": [
    "# string.strip()\n",
    "name = '   John Smith     '\n",
    "print(name.strip(' '))"
   ]
  },
  {
   "cell_type": "markdown",
   "metadata": {},
   "source": [
    "##### .title()"
   ]
  },
  {
   "cell_type": "code",
   "execution_count": 10,
   "metadata": {},
   "outputs": [
    {
     "name": "stdout",
     "output_type": "stream",
     "text": [
      "Barack Obama\n"
     ]
    }
   ],
   "source": [
    "# string.title()\n",
    "president = 'barack obama'\n",
    "print(president.title())"
   ]
  },
  {
   "cell_type": "markdown",
   "metadata": {},
   "source": [
    "### String Exercise <br>\n",
    "<p>Strip all white space and capitalize every name in the list given</p>"
   ]
  },
  {
   "cell_type": "code",
   "execution_count": 17,
   "metadata": {},
   "outputs": [
    {
     "name": "stdout",
     "output_type": "stream",
     "text": [
      "Connor\n",
      "Max\n",
      "Evan\n",
      "Jordan\n"
     ]
    }
   ],
   "source": [
    "names = ['    coNNor', 'max', ' EVan ', 'JORDAN']\n",
    "# HINT: You will need to use a for loop for iteration\n",
    "# use for loop\n",
    "\n",
    "for name in names:\n",
    "    print(name.strip().title())"
   ]
  },
  {
   "cell_type": "markdown",
   "metadata": {},
   "source": [
    "### Working With Lists"
   ]
  },
  {
   "cell_type": "markdown",
   "metadata": {},
   "source": [
    "##### min()"
   ]
  },
  {
   "cell_type": "code",
   "execution_count": 22,
   "metadata": {},
   "outputs": [
    {
     "name": "stdout",
     "output_type": "stream",
     "text": [
      "4\n"
     ]
    }
   ],
   "source": [
    "# min(list)\n",
    "number = [4, 5, 97, 54, 16]\n",
    "\n",
    "print(min(number))"
   ]
  },
  {
   "cell_type": "markdown",
   "metadata": {},
   "source": [
    "##### max()"
   ]
  },
  {
   "cell_type": "code",
   "execution_count": 20,
   "metadata": {},
   "outputs": [
    {
     "name": "stdout",
     "output_type": "stream",
     "text": [
      "97\n"
     ]
    }
   ],
   "source": [
    "# max(list)\n",
    "\n",
    "print(max(number))"
   ]
  },
  {
   "cell_type": "markdown",
   "metadata": {},
   "source": [
    "##### sum()"
   ]
  },
  {
   "cell_type": "code",
   "execution_count": 23,
   "metadata": {},
   "outputs": [
    {
     "name": "stdout",
     "output_type": "stream",
     "text": [
      "176\n"
     ]
    }
   ],
   "source": [
    "# sum(list)\n",
    "\n",
    "print(sum(number))"
   ]
  },
  {
   "cell_type": "markdown",
   "metadata": {},
   "source": [
    "##### sorted()"
   ]
  },
  {
   "cell_type": "code",
   "execution_count": 28,
   "metadata": {},
   "outputs": [
    {
     "name": "stdout",
     "output_type": "stream",
     "text": [
      "[4, 5, 97, 54, 16]\n",
      "[4, 5, 16, 54, 97]\n",
      "[4, 5, 97, 54, 16]\n"
     ]
    }
   ],
   "source": [
    "# sorted(list)\n",
    "# use when you do not want to permanently rearrange the list\n",
    "\n",
    "print(number)\n",
    "\n",
    "sorted_number = sorted(number)\n",
    "print(sorted_number)\n",
    "\n",
    "print(number)"
   ]
  },
  {
   "cell_type": "markdown",
   "metadata": {},
   "source": [
    "##### .sort() <br>\n",
    "<p>Difference between sort and sorted, is that sorted doesn't change original list it returns a copy, while .sort changes the original list</p>"
   ]
  },
  {
   "cell_type": "code",
   "execution_count": 30,
   "metadata": {},
   "outputs": [
    {
     "name": "stdout",
     "output_type": "stream",
     "text": [
      "before sort: [4, 5, 97, 54, 16]\n",
      "None\n",
      "[4, 5, 16, 54, 97]\n"
     ]
    }
   ],
   "source": [
    "# list.sort()\n",
    "print(f\"before sort: {number}\")\n",
    "print(number.sort()) \n",
    "print(number)\n",
    "\n",
    "# use sorted when you don't want to alter original list, use .sort() when you want to alter original list"
   ]
  },
  {
   "cell_type": "markdown",
   "metadata": {},
   "source": [
    "##### Copying a List"
   ]
  },
  {
   "cell_type": "code",
   "execution_count": 31,
   "metadata": {},
   "outputs": [
    {
     "name": "stdout",
     "output_type": "stream",
     "text": [
      "[4, 5, 16, 54, 97]\n"
     ]
    }
   ],
   "source": [
    "# [:] copies a list, doesn't alter original\n",
    "list_1 = number[:]\n",
    "print(list_1)"
   ]
  },
  {
   "cell_type": "markdown",
   "metadata": {},
   "source": [
    "##### 'in' keyword"
   ]
  },
  {
   "cell_type": "code",
   "execution_count": 37,
   "metadata": {},
   "outputs": [
    {
     "name": "stdout",
     "output_type": "stream",
     "text": [
      "not found\n",
      "not found\n",
      "found\n",
      "not found\n",
      "not found\n"
     ]
    }
   ],
   "source": [
    "l_teachers = ['joel', 'derek', 'connor', 'brian', 'joe']\n",
    "\n",
    "for name in l_teachers:\n",
    "    if 'c' in name [0]:\n",
    "        print('found')\n",
    "    else:\n",
    "        print('not found')\n",
    "\n",
    "# if 'derek' in l_teachers:\n",
    "#     print('Coding Temple Instructor')\n",
    "# else:\n",
    "#     print('Not an instructor')\n",
    "    \n",
    "    \n",
    "# if 'Pam' in l_teachers:\n",
    "#     print('Coding Temple Instructor')\n",
    "# else:\n",
    "#     print('Not an instructor')"
   ]
  },
  {
   "cell_type": "markdown",
   "metadata": {},
   "source": [
    "##### 'not in' keyword"
   ]
  },
  {
   "cell_type": "code",
   "execution_count": 38,
   "metadata": {},
   "outputs": [
    {
     "name": "stdout",
     "output_type": "stream",
     "text": [
      "not a CT instructor\n"
     ]
    }
   ],
   "source": [
    "if 'zack' not in l_teachers:\n",
    "    print('not a CT instructor')"
   ]
  },
  {
   "cell_type": "markdown",
   "metadata": {},
   "source": [
    "##### Checking an Empty List"
   ]
  },
  {
   "cell_type": "code",
   "execution_count": 39,
   "metadata": {},
   "outputs": [
    {
     "name": "stdout",
     "output_type": "stream",
     "text": [
      "empty\n"
     ]
    }
   ],
   "source": [
    "# if l_1: or if l_1 = []\n",
    "\n",
    "l_2 = []\n",
    "\n",
    "if l_2 == []:\n",
    "    print('empty')"
   ]
  },
  {
   "cell_type": "markdown",
   "metadata": {},
   "source": [
    "##### Removing Instances with a Loop"
   ]
  },
  {
   "cell_type": "code",
   "execution_count": 46,
   "metadata": {},
   "outputs": [
    {
     "name": "stdout",
     "output_type": "stream",
     "text": [
      "['connor', 'joel', 'max', 'evan', 'rob']\n"
     ]
    }
   ],
   "source": [
    "# while, remove\n",
    "# while loop is more efficient when names are back to back\n",
    "\n",
    "names = ['connor', 'joel', 'max', 'evan', 'evan', 'rob']\n",
    "\n",
    "# while 'evan' in names:\n",
    "#     names.remove('evan')\n",
    "# print(names)\n",
    "\n",
    "for name in names:\n",
    "    if name == 'evan':\n",
    "        names.remove('evan')\n",
    "print(names)"
   ]
  },
  {
   "cell_type": "markdown",
   "metadata": {},
   "source": [
    "### List Exercise <br>\n",
    "<p>Remove all duplicates<br><b>Extra: Create a program that will remove any duplicates from a given list</b></p>"
   ]
  },
  {
   "cell_type": "code",
   "execution_count": 60,
   "metadata": {},
   "outputs": [
    {
     "name": "stdout",
     "output_type": "stream",
     "text": [
      "['connor', 'bob', 'evan', 'max', 2, 3, 4, 'kevin']\n"
     ]
    }
   ],
   "source": [
    "names = ['connor', 'connor', 'bob', 'connor', 'evan', 'max', 'evan', 2, 2, 2, 3, 3, 4, 'bob', 'kevin']\n",
    "# Hint 1: You will need an append\n",
    "# Hint 2: Using an empty list will make life easier\n",
    "\n",
    "condensed_names = []\n",
    "\n",
    "for name in names:\n",
    "    if name not in condensed_names:\n",
    "        condensed_names.append(name)\n",
    "        \n",
    "print(condensed_names)"
   ]
  },
  {
   "cell_type": "markdown",
   "metadata": {},
   "source": [
    "### List Comprehensions \n",
    "\n",
    "Creating a quickly generated list to work with\n",
    "    *result*  = [*transform* *iteration* *filter*]"
   ]
  },
  {
   "cell_type": "markdown",
   "metadata": {},
   "source": [
    "# In a list comprehension we have a few pieces: \n",
    "\n",
    "1. The first is the counter/ variable - IN this the variable is x\n",
    "2. then we have a transform for the variable\n",
    "3. The finale part of a list comp is called the condition\n",
    "\n",
    "\n",
    "    [transform, variable, condition]\n"
   ]
  },
  {
   "cell_type": "code",
   "execution_count": 65,
   "metadata": {},
   "outputs": [
    {
     "name": "stdout",
     "output_type": "stream",
     "text": [
      "[0, 4, 16, 36, 64, 100, 144, 196, 256, 324, 400, 484, 576, 676, 784, 900, 1024, 1156, 1296, 1444, 1600, 1764, 1936, 2116, 2304, 2500, 2704, 2916, 3136, 3364, 3600, 3844, 4096, 4356, 4624, 4900, 5184, 5476, 5776, 6084, 6400, 6724, 7056, 7396, 7744, 8100, 8464, 8836, 9216, 9604]\n",
      "\n",
      "\n",
      "[0, 4, 16, 36, 64, 100, 144, 196, 256, 324, 400, 484, 576, 676, 784, 900, 1024, 1156, 1296, 1444, 1600, 1764, 1936, 2116, 2304, 2500, 2704, 2916, 3136, 3364, 3600, 3844, 4096, 4356, 4624, 4900, 5184, 5476, 5776, 6084, 6400, 6724, 7056, 7396, 7744, 8100, 8464, 8836, 9216, 9604]\n"
     ]
    }
   ],
   "source": [
    "# number comprehension\n",
    "\n",
    "# With a regular for loop (NOT every for loop can be written as a comprehension)\n",
    "\n",
    "\n",
    "nums = []\n",
    "\n",
    "for i in range(100):\n",
    "    if i % 2 == 0:\n",
    "        nums.append(i**2)\n",
    "print(nums)\n",
    "\n",
    "\n",
    "#[variable, transform, condition]\n",
    "\n",
    "print('\\n')\n",
    "numbs_comp = [i**2 for i in range(100) if i % 2 == 0]\n",
    "print(numbs_comp)"
   ]
  },
  {
   "cell_type": "markdown",
   "metadata": {},
   "source": [
    "There are a few benefits to using List comprehensions. The most obvious would be that we now have shorter code to work with instead of using 3+ lines of code in the for loop variant.\n",
    "\n",
    "Another is an added benefit to memory usage. Since the list's memory is allocated first before adding elements to it, we don't have to resize the list once we add elements to it.\n",
    "\n",
    "Lastly, list comprehensions are considered the \"pythonic\" way to write code by the PEP8 standards (Python Style Guide)"
   ]
  },
  {
   "cell_type": "code",
   "execution_count": 69,
   "metadata": {},
   "outputs": [
    {
     "name": "stdout",
     "output_type": "stream",
     "text": [
      "[0, 1, 4, 9, 16, 25, 36, 49, 64, 81]\n",
      "[0, 1, 4, 9, 16, 25, 36, 49, 64, 81]\n",
      "\n",
      "\n",
      "[0, 1, 4, 9, 16, 25, 36, 49, 64, 81]\n"
     ]
    }
   ],
   "source": [
    "# square number comprehension\n",
    "\n",
    "print([x**2 for x in range(10)])\n",
    "\n",
    "print('\\n')\n",
    "\n",
    "# old way:\n",
    "\n",
    "squares_reg = []\n",
    "for x in range(10):\n",
    "    squares_reg.append(x**2)\n",
    "print(squares_reg)"
   ]
  },
  {
   "cell_type": "code",
   "execution_count": 72,
   "metadata": {},
   "outputs": [
    {
     "name": "stdout",
     "output_type": "stream",
     "text": [
      "['c', 'm', 'e', 'r']\n",
      "['c', 'm', 'e', 'r']\n"
     ]
    }
   ],
   "source": [
    "# string comprehension\n",
    "\n",
    "names = ['connor', 'max', 'evan', 'rob']\n",
    "\n",
    "first_char_comp = [name[0] for name in names]\n",
    "print(first_char_comp)\n",
    "\n",
    "\n",
    "# old way:\n",
    "first_char = []\n",
    "\n",
    "for name in names:\n",
    "    first_char.append(name[0])\n",
    "print(first_char)"
   ]
  },
  {
   "cell_type": "code",
   "execution_count": 77,
   "metadata": {},
   "outputs": [
    {
     "name": "stdout",
     "output_type": "stream",
     "text": [
      "['connor']\n",
      "['connor']\n"
     ]
    }
   ],
   "source": [
    "c_names = [first_name for first_name in names if first_name[0] == 'c']\n",
    "print(c_names)\n",
    "\n",
    "\n",
    "# old way:\n",
    "c_names_reg = []\n",
    "\n",
    "for first_name in names:\n",
    "    if first_name[0] == 'c':\n",
    "        c_names_reg.append(first_name)\n",
    "        \n",
    "print(c_names_reg)"
   ]
  },
  {
   "cell_type": "code",
   "execution_count": null,
   "metadata": {},
   "outputs": [],
   "source": []
  },
  {
   "cell_type": "markdown",
   "metadata": {},
   "source": [
    "### Tuples <br>\n",
    "<p><b>Defined as an immutable list</b></p><br>Seperated by commas using parenthesis"
   ]
  },
  {
   "cell_type": "code",
   "execution_count": 83,
   "metadata": {},
   "outputs": [
    {
     "name": "stdout",
     "output_type": "stream",
     "text": [
      "1\n",
      "3\n",
      "1\n",
      "2\n",
      "3\n",
      "1\n",
      "2\n",
      "3\n"
     ]
    }
   ],
   "source": [
    "# used for things you dont want to change throughout code\n",
    "# cannot use .append() or .pop() \n",
    "\n",
    "tup_1 = 1, 2, 3 # first way of creating a tuple\n",
    "tup_2 = (1,2,3) # other way of creating a tuple\n",
    "\n",
    "# print(type(tup_1))\n",
    "# print(type(tup_2))\n",
    "\n",
    "print(tup_1[0])\n",
    "\n",
    "print(len(tup_1))\n",
    "\n",
    "# looping over tuples\n",
    "for number in tup_1:\n",
    "    print(number)\n",
    "    \n",
    "# looping over a tuple with index using range and length\n",
    "for number in range(len(tup_1)):\n",
    "    tup_1.append(number)\n",
    "    print(popped_num)"
   ]
  },
  {
   "cell_type": "markdown",
   "metadata": {},
   "source": [
    "##### sorted()"
   ]
  },
  {
   "cell_type": "code",
   "execution_count": 90,
   "metadata": {},
   "outputs": [
    {
     "name": "stdout",
     "output_type": "stream",
     "text": [
      "[1, 3, 5, 9, 20, 45]\n",
      "(1, 3, 3, 4, 5, 6, 9, 20, 33, 45, 66, 77)\n",
      "<class 'list'>\n",
      "(20, 5, 1, 3, 9, 45)\n"
     ]
    }
   ],
   "source": [
    "tup_3 = (20 , 5, 1, 3, 9, 45)\n",
    "\n",
    "sorted_tup = sorted(tup_3)\n",
    "\n",
    "print(sorted_tup)\n",
    "\n",
    "random_list = [3, 4, 6, 66, 77, 33]\n",
    "combine_list = sorted(sorted_tup + random_list)\n",
    "\n",
    "new_tup = tuple(combine_list)\n",
    "\n",
    "print(new_tup)\n",
    "print(type(sorted_tup))\n",
    "print(tup_3)"
   ]
  },
  {
   "cell_type": "markdown",
   "metadata": {},
   "source": [
    "##### Adding values to a Tuple"
   ]
  },
  {
   "cell_type": "code",
   "execution_count": 93,
   "metadata": {},
   "outputs": [
    {
     "name": "stdout",
     "output_type": "stream",
     "text": [
      "(1, 2, 3, 5)\n",
      "(1, 2, 3, 5, 5)\n",
      "<class 'tuple'>\n"
     ]
    }
   ],
   "source": [
    "print(tup_1)\n",
    "\n",
    "tup_1 = tup_1 + (5,)\n",
    "print(tup_1)\n",
    "print(type(tup_1))"
   ]
  },
  {
   "cell_type": "markdown",
   "metadata": {},
   "source": [
    "## Functions"
   ]
  },
  {
   "cell_type": "markdown",
   "metadata": {},
   "source": [
    "##### User-Defined vs. Built-In Functions"
   ]
  },
  {
   "cell_type": "code",
   "execution_count": 96,
   "metadata": {},
   "outputs": [
    {
     "data": {
      "text/plain": [
       "'Hello World'"
      ]
     },
     "execution_count": 96,
     "metadata": {},
     "output_type": "execute_result"
    }
   ],
   "source": [
    "# user defined:\n",
    "def sayHello():\n",
    "    return 'Hello World'\n",
    "\n",
    "sayHello()"
   ]
  },
  {
   "cell_type": "markdown",
   "metadata": {},
   "source": [
    "##### Accepting Parameters"
   ]
  },
  {
   "cell_type": "code",
   "execution_count": 104,
   "metadata": {
    "scrolled": true
   },
   "outputs": [
    {
     "name": "stdout",
     "output_type": "stream",
     "text": [
      "What is your first name? Rafi\n",
      "Hello, joel carter\n",
      "Hello, Rafi Griffin\n",
      "Hello, a carter\n",
      "Hello, b carter\n",
      "Hello, c carter\n"
     ]
    }
   ],
   "source": [
    "# ARGUMENTS or PARAMETERS\n",
    "# order they appear in matters\n",
    "# a variable can be any type of object\n",
    "def printFullName(first_name, last_name):\n",
    "    return f'Hello, {first_name} {last_name}'\n",
    "\n",
    "a_name = input('What is your first name? ')\n",
    "\n",
    "print(printFullName('joel', 'carter'))\n",
    "print(printFullName(a_name, 'Griffin'))\n",
    "print(printFullName('a', 'carter'))\n",
    "print(printFullName('b', 'carter'))\n",
    "print(printFullName('c', 'carter'))\n"
   ]
  },
  {
   "cell_type": "markdown",
   "metadata": {},
   "source": [
    "##### Default Parameters"
   ]
  },
  {
   "cell_type": "code",
   "execution_count": 110,
   "metadata": {},
   "outputs": [
    {
     "name": "stdout",
     "output_type": "stream",
     "text": [
      "The name is Bond...James Bond.\n",
      "Last name ever, first name greatest!\n"
     ]
    }
   ],
   "source": [
    "# default parameters need to be declared AFTER non-default parameters each time\n",
    "\n",
    "def printAgentName(first_name, last_name = 'Bond'):\n",
    "    return f'The name is {last_name}...{first_name} {last_name}.'\n",
    "\n",
    "print(printAgentName('James'))\n",
    "\n",
    "# DON'T DO THIS (default argument must go last)\n",
    "def printAgentAgain(last_name = 'ever', first_name):\n",
    "    return f'Last name {last_name}, first name {first_name}!'\n",
    "\n",
    "print(printAgentAgain(first_name = 'greatest'))\n"
   ]
  },
  {
   "cell_type": "markdown",
   "metadata": {},
   "source": [
    "##### Making an Argument Optional"
   ]
  },
  {
   "cell_type": "code",
   "execution_count": 114,
   "metadata": {},
   "outputs": [
    {
     "data": {
      "text/plain": [
       "'Hello Mr.  ed'"
      ]
     },
     "execution_count": 114,
     "metadata": {},
     "output_type": "execute_result"
    }
   ],
   "source": [
    "def printHorseName(first, middle = '', last = 'ed'):\n",
    "    return f'Hello {first} {middle} {last}'\n",
    "\n",
    "printHorseName('Mr.')"
   ]
  },
  {
   "cell_type": "markdown",
   "metadata": {},
   "source": [
    "##### Keyword Arguments"
   ]
  },
  {
   "cell_type": "code",
   "execution_count": 116,
   "metadata": {},
   "outputs": [
    {
     "data": {
      "text/plain": [
       "\"The hero's name is spiderman and the superpower is spidey sense\""
      ]
     },
     "execution_count": 116,
     "metadata": {},
     "output_type": "execute_result"
    }
   ],
   "source": [
    "def printSuperHero(name, power = 'flying'):\n",
    "    return f\"The hero's name is {name} and the superpower is {power}\"\n",
    "\n",
    "printSuperHero(power = 'spidey sense', name = 'spiderman')"
   ]
  },
  {
   "cell_type": "markdown",
   "metadata": {},
   "source": [
    "# Creating a start, stop, step function"
   ]
  },
  {
   "cell_type": "code",
   "execution_count": 122,
   "metadata": {},
   "outputs": [
    {
     "name": "stdout",
     "output_type": "stream",
     "text": [
      "6\n",
      "8\n",
      "10\n",
      "12\n",
      "14\n",
      "16\n",
      "18\n"
     ]
    }
   ],
   "source": [
    "def my_range(stop, start = 0, step = 1):\n",
    "    for i in range(start,stop,step):\n",
    "        print(i)\n",
    "        \n",
    "my_range(20,6,2)"
   ]
  },
  {
   "cell_type": "markdown",
   "metadata": {},
   "source": [
    "##### Returning Values"
   ]
  },
  {
   "cell_type": "code",
   "execution_count": 123,
   "metadata": {},
   "outputs": [
    {
     "data": {
      "text/plain": [
       "16"
      ]
     },
     "execution_count": 123,
     "metadata": {},
     "output_type": "execute_result"
    }
   ],
   "source": [
    "def addNums(num1, num2):\n",
    "    return num1 + num2\n",
    "\n",
    "addNums(12,4)"
   ]
  },
  {
   "cell_type": "markdown",
   "metadata": {},
   "source": [
    "##### *args"
   ]
  },
  {
   "cell_type": "code",
   "execution_count": 127,
   "metadata": {},
   "outputs": [
    {
     "name": "stdout",
     "output_type": "stream",
     "text": [
      "36\n",
      "('dragonZord', 'vanilla', 2, 3)\n",
      "{'testing': 'joel'}\n",
      "dragonZord\n",
      "vanilla\n",
      "2\n",
      "3\n",
      "testing\n"
     ]
    }
   ],
   "source": [
    "# allows us to add any number of arguments. can take ANY number of args as parameters\n",
    "# args stands for arguments\n",
    "# must be last if multiple parameters are present\n",
    "\n",
    "def printArgs(num1, *args, **kwargs):\n",
    "    print(num1)\n",
    "    print(args)\n",
    "    print(kwargs)\n",
    "    \n",
    "    for arg in args:\n",
    "        print(arg)\n",
    "\n",
    "    for kwarg in kwargs:\n",
    "        print(kwarg)\n",
    "    \n",
    "printArgs(36, 'dragonZord', 'vanilla', 2, 3, testing='joel')"
   ]
  },
  {
   "cell_type": "markdown",
   "metadata": {},
   "source": [
    "##### Docstring"
   ]
  },
  {
   "cell_type": "code",
   "execution_count": 130,
   "metadata": {},
   "outputs": [
    {
     "name": "stdout",
     "output_type": "stream",
     "text": [
      "george\n",
      "ramon\n",
      "peter\n",
      "Help on function printNames in module __main__:\n",
      "\n",
      "printNames(list_1)\n",
      "    printNAmes(list_1)\n",
      "    Function requires a list to be passed as a parameter\n",
      "    and will print contents of list. expecting on list of \n",
      "    names(strings) to be passed.\n",
      "\n"
     ]
    }
   ],
   "source": [
    "def printNames(list_1):\n",
    "    '''\n",
    "        printNAmes(list_1)\n",
    "        Function requires a list to be passed as a parameter\n",
    "        and will print contents of list. expecting on list of \n",
    "        names(strings) to be passed.\n",
    "    '''\n",
    "    for name in list_1:\n",
    "        print(name)\n",
    "    \n",
    "printNames(['george', 'ramon', 'peter'])\n",
    "help(printNames)"
   ]
  },
  {
   "cell_type": "markdown",
   "metadata": {},
   "source": [
    "##### Using a User Function in a Loop"
   ]
  },
  {
   "cell_type": "code",
   "execution_count": 131,
   "metadata": {},
   "outputs": [
    {
     "name": "stdout",
     "output_type": "stream",
     "text": [
      "Are you ready to quit? no\n",
      "What do you want to do?IDK\n",
      "IDK\n",
      "Ready yet? no\n",
      "What do you want to do?quit\n",
      "quit\n",
      "Ready yet? quit\n"
     ]
    }
   ],
   "source": [
    "def printInput(answer):\n",
    "    print(answer)\n",
    "    \n",
    "response = input('Are you ready to quit? ')\n",
    "\n",
    "while True:\n",
    "    ask = input('What do you want to do?')\n",
    "    printInput(ask)\n",
    "    \n",
    "    response = input('Ready yet? ')\n",
    "    if response.lower() == 'quit':\n",
    "        break"
   ]
  },
  {
   "cell_type": "markdown",
   "metadata": {},
   "source": [
    "## Function Exercise \n",
    "Write a function that loops through a list of first_names and a list of last_names, combines the two and return a list of full_names"
   ]
  },
  {
   "cell_type": "code",
   "execution_count": 157,
   "metadata": {},
   "outputs": [
    {
     "name": "stdout",
     "output_type": "stream",
     "text": [
      "['John Smith', 'Evan Smith', 'Jordan Williams', 'Max Bell']\n"
     ]
    }
   ],
   "source": [
    "first_name = ['John', 'Evan', 'Jordan', 'Max']\n",
    "last_name = ['Smith', 'Smith', 'Williams', 'Bell']\n",
    "\n",
    "# Output: ['John Smith', 'Evan Smith', 'Jordan Williams', 'Max Bell']\n",
    "\n",
    "\n",
    "def combine_names(first_names, last_names):\n",
    "    full_names = [f\"{first} {last}\" for first, last in zip(first_names, last_names)]\n",
    "    return full_names\n",
    "\n",
    "full_name = combine_names(first_name, last_name)\n",
    "print(full_name)\n",
    "\n",
    "\n",
    "# this is example from video verbatim. does not work??\n",
    "\n",
    "# def name_combiner(list_1, list_2):\n",
    "#     new_list = []\n",
    "#     num = 0\n",
    "#     for i in list_1:\n",
    "#         new_list.append(list_1(num) + ' ' + list_2(num))\n",
    "#         num += 1\n",
    "#     return new_list\n",
    "\n",
    "# name_combiner(first_name, last_name)"
   ]
  },
  {
   "cell_type": "markdown",
   "metadata": {},
   "source": [
    "## Scope <br>\n",
    "<p>Scope refers to the ability to access variables, different types of scope include:<br>a) Global<br>b) Function (local)<br>c) Class (local)</p>"
   ]
  },
  {
   "cell_type": "code",
   "execution_count": 162,
   "metadata": {},
   "outputs": [
    {
     "name": "stdout",
     "output_type": "stream",
     "text": [
      "3\n",
      "7\n",
      "10\n"
     ]
    }
   ],
   "source": [
    "number = 3 # global variable; accessible ANYWHERE in my code now\n",
    "\n",
    "def myFunc():\n",
    "    number = 6 # Local function variable \n",
    "    number += 4\n",
    "    return number\n",
    "\n",
    "print(number)\n",
    "print(number + 4)\n",
    "print(myFunc())"
   ]
  },
  {
   "cell_type": "markdown",
   "metadata": {},
   "source": [
    "# Exercises"
   ]
  },
  {
   "cell_type": "markdown",
   "metadata": {},
   "source": [
    "## Exercise 1 <br>\n",
    "<p>Given a list as a parameter,write a function that returns a list of numbers that are less than ten</b></i></p><br>\n",
    "<p> For example: Say your input parameter to the function is [1,11,14,5,8,9]...Your output should [1,5,8,9]</p>"
   ]
  },
  {
   "cell_type": "code",
   "execution_count": 165,
   "metadata": {},
   "outputs": [
    {
     "name": "stdout",
     "output_type": "stream",
     "text": [
      "[1, 5, 8, 9]\n"
     ]
    }
   ],
   "source": [
    "# Use the following list - [1,11,14,5,8,9]\n",
    "\n",
    "l_1 = [1,11,14,5,8,9]\n",
    "\n",
    "under_ten = []\n",
    "\n",
    "for num in l_1:\n",
    "    if num < 10:\n",
    "        under_ten.append(num)\n",
    "        \n",
    "print(under_ten)"
   ]
  },
  {
   "cell_type": "markdown",
   "metadata": {},
   "source": [
    "## Exercise 2 <br>\n",
    "<p>Write a function that takes in two lists and returns the two lists merged together and sorted<br>\n",
    "<b><i>Hint: You can use the .sort() method</i></b></p>"
   ]
  },
  {
   "cell_type": "code",
   "execution_count": 174,
   "metadata": {},
   "outputs": [
    {
     "name": "stdout",
     "output_type": "stream",
     "text": [
      "[1, 2, 3, 3, 4, 4, 5, 5, 6, 6, 7, 8, 10]\n"
     ]
    }
   ],
   "source": [
    "l_1 = [1,2,3,4,5,6]\n",
    "l_2 = [3,4,5,6,7,8,10]\n",
    "\n",
    "def combined_lists(l_1, l_2):\n",
    "    merged_list = sorted(l_1 + l_2)\n",
    "    return merged_list\n",
    "\n",
    "sorted_list = combined_lists(l_1, l_2)\n",
    "print(sorted_list)\n"
   ]
  }
 ],
 "metadata": {
  "kernelspec": {
   "display_name": "Python 3 (ipykernel)",
   "language": "python",
   "name": "python3"
  },
  "language_info": {
   "codemirror_mode": {
    "name": "ipython",
    "version": 3
   },
   "file_extension": ".py",
   "mimetype": "text/x-python",
   "name": "python",
   "nbconvert_exporter": "python",
   "pygments_lexer": "ipython3",
   "version": "3.11.4"
  }
 },
 "nbformat": 4,
 "nbformat_minor": 2
}
